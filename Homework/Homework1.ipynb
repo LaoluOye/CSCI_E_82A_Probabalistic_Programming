{
 "cells": [
  {
   "cell_type": "markdown",
   "metadata": {},
   "source": [
    "# Homework 1\n",
    "\n",
    "## Directed Graphical Models\n",
    "\n",
    "In the practice homework, you computed the posterior probabilities of either the cook (C), the butler (B), being a murderer given the choice of weapons (K = knife, P = poison). In this exercise you will construct a Directed Bayesian Graphical Model or belief network for the available evidence. \n",
    "\n",
    "It is a cliche that a criminal must have opportunity, $OP$, means, $W$, and a motive, $MO$:   \n",
    "- Since both the cook and butler were at the house and had access to the victim when the murder was committed, we can say that $P(OP) = 1.0$. Any model can be simplified by eliminating this variable.  \n",
    "- The Inspector has already established that the means was either a knife, $K$, or poison, $P$.    \n",
    "- Upon questioning the suspects, Inspector Markov believe that inheriting part of the fortune of the victim is a likely motive. She suspects that the butler may be due an inheritance, but doubts the cook does. \n",
    "\n",
    "Further, as Inspector Markov has continued her investigation she has discovered an unexplained set of footprints, evidence that a third person may have been involved in the crime. There is no evidence linking the cook or the butler to any other possible perpetrator, the model can neglect the possibility of collaboration with a third party. In other words, $p(C,B\\ |\\ third\\ party) = 0$, $p(third\\ party\\ |\\ cook = 0)$, and $p(third\\ party\\ |\\ butler = 0)$.  \n",
    "\n",
    "We will also continue to assume that the butler and the cook did not influence each other to commit the crime. Therefore, $p(B\\ |\\ C) = p(B)$ and $p(C\\ |\\ B) = p(C)$.\n",
    "\n",
    "As a first step in creating the belief network, import the packages you will need for this analysis."
   ]
  },
  {
   "cell_type": "code",
   "execution_count": null,
   "metadata": {},
   "outputs": [],
   "source": [
    "from pgmpy.models import BayesianModel\n",
    "from pgmpy.factors.discrete import TabularCPD"
   ]
  },
  {
   "cell_type": "markdown",
   "metadata": {},
   "source": [
    "The joint probability distribution is:\n",
    "\n",
    "$$p(B,C,W,MO,M)$$   \n",
    "where the letters indicate the following variables;   \n",
    "$B = $ unconditional probability that the butler committed the crime,   \n",
    "$C = $ unconditional probability that the cook committed the crime,   \n",
    "$W = $ the probability of the weapon, K = knife, P = poison, conditional on B and C.   \n",
    "$MO = $ the probability of a motive, conditional on C and B.    \n",
    "$M = $ the probability that the third party, the cook, C, or the butler, B, committed the crime, conditional on B, C, W, and MO.    \n",
    "\n",
    "Given the independencies, this distribution can be factorized in the following manner:\n",
    "\n",
    "$$p(B,C,W,MO,M) = p(B)\\ p(C)\\ p(W\\ |\\ B, C)\\ p(MO\\ |\\ B,C)\\ p(M\\ |\\ B, C, W, MO)$$\n",
    "\n",
    "Now you will define the skeleton of the graph. Given the independency relationships of the factorized probability distribution define the skeleton of the model (`m_model`) using the `BayesianModel` function.\n",
    "\n",
    ">**Hint:** Using paper and pencil make a sketch of the graph before you commit your skeleton structure to code. "
   ]
  },
  {
   "cell_type": "code",
   "execution_count": null,
   "metadata": {},
   "outputs": [],
   "source": [
    "## Define the network structure.\n"
   ]
  },
  {
   "cell_type": "markdown",
   "metadata": {},
   "source": [
    "Your next step to create you model is to define the conditional probability tables (CPT) for each independent variable using the `TabularCDP` function. The tables for these variables are:    \n",
    "\n",
    "\n",
    "$p(B)$   \n",
    "\n",
    "| Case | p |\n",
    "|---|---|\n",
    "|$B_0$ | 0.4 |\n",
    "|$B_1$ | 0.6 |    \n",
    "\n",
    "$p(C)$   \n",
    "\n",
    "| Case | p |\n",
    "|---|---|\n",
    "|$C_0$ | 0.7 |\n",
    "|$C_1$ | 0.3 |\n",
    "\n",
    "\n",
    "Using the above tables define and print the CPTs. Make sure you use variable names consistent with your model."
   ]
  },
  {
   "cell_type": "code",
   "execution_count": null,
   "metadata": {},
   "outputs": [],
   "source": [
    "## Define the independent variables\n"
   ]
  },
  {
   "cell_type": "markdown",
   "metadata": {},
   "source": [
    "Next, define the variables $W$ and $MO$, the conditional probabilities of weapon choice and motive given the butler and the cook. The conditional probability tables for these variables are:\n",
    "\n",
    "$$p(W)$$\n",
    "\n",
    "| Case | B0, C0 | B0, C1 | B1, C0 | B1, C1 |\n",
    "|---|---|---|--|---|\n",
    "|$W_0$ | 0.1 | 0.5 | 0.4 | 0.7 |\n",
    "|$W_1$ | 0.9 | 0.5 | 0.6 | 0.3 |\n",
    "\n",
    "Where $W_0$ is poison and $W_1$ is knife.   \n",
    "\n",
    "$$p(MO)$$\n",
    "\n",
    "| Case | B0, C0 | B0, C1 | B1, C0 | B1, C1 |\n",
    "|---|---|---|--|---|\n",
    "|$MO_0$ | 1.0 | 0.7 | 0.1 | 0.3 |\n",
    "|$MO_1$ | 0.0 | 0.3 | 0.9 | 0.7 |\n",
    "\n",
    "Where $MO_0$ is no motive and $MO_1$ is motive.\n",
    "\n",
    "Give the above tables define and print these CPTs. "
   ]
  },
  {
   "cell_type": "code",
   "execution_count": null,
   "metadata": {},
   "outputs": [],
   "source": []
  },
  {
   "cell_type": "code",
   "execution_count": null,
   "metadata": {},
   "outputs": [],
   "source": [
    "\n"
   ]
  },
  {
   "cell_type": "markdown",
   "metadata": {},
   "source": [
    "**Question:** If poison is rulled out, $p(Poison) = 0$, how many possible states would each of these CPTs have?  "
   ]
  },
  {
   "cell_type": "markdown",
   "metadata": {},
   "source": [
    "ANS: "
   ]
  },
  {
   "cell_type": "markdown",
   "metadata": {},
   "source": [
    "Finally, you must define a CPT for the conditional probability of the murderer. The marginal distribution of this CPT will be the probabilities of each of the suspects having committed the crime. The tree cases are coded as follows:\n",
    "\n",
    "- **M0:** The murder is committed by a third unnamed party, \n",
    "- **M1:** the cook is a murderer, and\n",
    "- **M2:** the butler is a murderer. \n",
    "\n",
    "This CPT is conditional on $B$, $C$, $W$, and $MO$. Since there are three possible guilty parties (cardinality of 3) there are 48 possible states; $N_{B} * N_{C} * N_{M} * N_W * N_M = 2 * 2 * 2 * 2* 3 = 48$ as shown here:\n",
    "\n",
    "| | p | p | p | p| p | p | p | p| p | p | p | p| p | p | p | p|  \n",
    "|---|---|---|---|---|---|---|---|---|---|---|---|---|---|---|---|---|   \n",
    "|| $CW_0$ | $CW_0$ | $CW_0$ | $CW_0$| $CW_1$ | $CW_1$ | $CW_1$ | $CW_1$| $CW_0$ | $CW_0$ | $CW_0$ | $CW_0$| $CW_1$ | $CW_1$ | $CW_1$ | $CW_1$|     \n",
    "|| $BW_0$ | $BW_0$ | $BW_0$ | $BW_0$ | $BW_0$ | $BW_0$ | $BW_0$ | $BW_0$ | $BW_1$ | $BW_1$ | $BW_1$ | $BW_1$ | $BW_1$ | $BW_1$ | $BW_1$ | $BW_1$ |    \n",
    "|| $W_0$ | $W_0$ | $W_1$ | $W_1$ | $W_0$ | $W_0$ | $W_1$ | $W_1$ | $W_0$ | $W_0$ | $W_1$ | $W_1$ | $W_0$ | $W_0$ | $W_1$ | $W_1$ | $W_0$ | $W_0$ | $W_1$ | $W_1$ |    \n",
    "|| $MO_0$ | $MO_1$ | $MO_0$ | $MO_1$ | $MO_0$ | $MO_1$ | $MO_0$ | $MO_1$ | $MO_0$ | $MO_1$ | $MO_0$ | $MO_1$ | $MO_0$ | $MO_1$ | $MO_0$ | $MO_1$ | \n",
    "|$M_0$| 1.0 | 1.0 | 1.0 | 1.0 | 0.0 | 0.0 | 0.0 | 0.0 | 0.0 | 0.0 | 0.0 | 0. | 0.0 | 0.0 | 0.0 | 0.0 |     \n",
    "|$M_1$| 0.0  | 0.0 | 0.0 | 0.0 | 1.0  | 1.0 | 1.0 | 1.0 | 0.0  | 0.0 | 0.0 | 0.0 | 0.5  | 0.5 | 0.5 | 0.5 |     \n",
    "|$M_2$| 0.0 | 0.0 | 0.0 | 0.0 | 0.0 | 0.0 | 0.0 | 0.0 | 1.0 | 1.0 | 1.0 | 1.0 |0.5 | 0.5 | 0.5 | 0.5 |\n",
    "\n",
    "Where:     \n",
    "$M_0$ = The third party     \n",
    "$M_1$ = The cook     \n",
    "$M_2$ = The butler     \n",
    "\n",
    "Create and print this CPT. "
   ]
  },
  {
   "cell_type": "code",
   "execution_count": null,
   "metadata": {},
   "outputs": [],
   "source": []
  },
  {
   "cell_type": "markdown",
   "metadata": {},
   "source": [
    "**Question:** If $p(Poison) = 0$ how many possible states would there be in this CPT?"
   ]
  },
  {
   "cell_type": "markdown",
   "metadata": {},
   "source": [
    "ANS:"
   ]
  },
  {
   "cell_type": "markdown",
   "metadata": {},
   "source": [
    "To complete your belief network, use the `add_cpds` method. \n",
    "\n",
    "> **Hint:** Before going any further make sure you apply the `check_model` method to your complete model. "
   ]
  },
  {
   "cell_type": "code",
   "execution_count": null,
   "metadata": {},
   "outputs": [],
   "source": []
  },
  {
   "cell_type": "markdown",
   "metadata": {},
   "source": [
    "Next investigate the independencies of all the variables in your model using the `local_independencies` method. Be sure to include all the variables in your list. "
   ]
  },
  {
   "cell_type": "code",
   "execution_count": null,
   "metadata": {},
   "outputs": [],
   "source": []
  },
  {
   "cell_type": "markdown",
   "metadata": {},
   "source": [
    "**Question:** Is this graphical model an I-map of the distribution discussed at the start of this lab and why?"
   ]
  },
  {
   "cell_type": "markdown",
   "metadata": {},
   "source": [
    "ANS: "
   ]
  },
  {
   "cell_type": "markdown",
   "metadata": {},
   "source": [
    "**Question:** is the graphical model a perfect map of the distribution, and why? "
   ]
  },
  {
   "cell_type": "markdown",
   "metadata": {},
   "source": [
    "ANS:"
   ]
  },
  {
   "cell_type": "markdown",
   "metadata": {},
   "source": [
    "Next, you will determine which of all possible trails in the graph are active. Create and execute the code using the `is_active_trail` method on the model object. Make sure you account for all possible pairs of variables. "
   ]
  },
  {
   "cell_type": "code",
   "execution_count": null,
   "metadata": {},
   "outputs": [],
   "source": []
  },
  {
   "cell_type": "markdown",
   "metadata": {},
   "source": [
    "**Question:** How can you best explain the blocked trails given the independent variables and V-structures in the graph? What are the trials with V-structures that are blocked? **Hint:** Be careful, as there can be several paths between a pair of variables.  "
   ]
  },
  {
   "cell_type": "markdown",
   "metadata": {},
   "source": [
    "ANS: "
   ]
  },
  {
   "cell_type": "markdown",
   "metadata": {},
   "source": [
    "**Question:** Does {W,MO} D-separate {C,B} from {M}, and why? "
   ]
  },
  {
   "cell_type": "markdown",
   "metadata": {},
   "source": [
    "ANS:"
   ]
  },
  {
   "cell_type": "markdown",
   "metadata": {},
   "source": [
    "**Question:**  What is the Markov blanket of the node W and the node MO?"
   ]
  },
  {
   "cell_type": "markdown",
   "metadata": {},
   "source": [
    "ANS:"
   ]
  }
 ],
 "metadata": {
  "kernelspec": {
   "display_name": "Python 3",
   "language": "python",
   "name": "python3"
  },
  "language_info": {
   "codemirror_mode": {
    "name": "ipython",
    "version": 3
   },
   "file_extension": ".py",
   "mimetype": "text/x-python",
   "name": "python",
   "nbconvert_exporter": "python",
   "pygments_lexer": "ipython3",
   "version": "3.7.3"
  }
 },
 "nbformat": 4,
 "nbformat_minor": 2
}
