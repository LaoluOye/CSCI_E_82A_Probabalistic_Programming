{
 "cells": [
  {
   "cell_type": "markdown",
   "metadata": {},
   "source": [
    "# Homework 3\n",
    "\n",
    "## Inference on Graphical Models\n",
    "\n",
    "In the previous homework, you constructed and examined the properties of a DAG and a MRF to model the variables for a murder mystery problem. Now, you are ready to perform inference on the directed graphical models. \n",
    "\n",
    "The goal of this analysis is to find the posterior distribution of key variables which will help Inspector Markov determine the most likely, weapon, motive and perpetrator. This process will require **inference** on the models. \n",
    "\n",
    "\n",
    "*******\n",
    "In this exercise you will construct a Directed Bayesian Graphical Model or belief network for the available evidence and perform inference on some of the variables. \n",
    "\n",
    "Inspector Markov has continued her investigation. Additionally Dr. Turing has had time to perform laboratory analysis. Turing reports to the Inspector that there is a chance that a toxic substance may have been used to incapacitate the victim before the stabbing. So, there are now two possible weapons:\n",
    "- knife alone, \n",
    "- knife with a poison. \n",
    "\n",
    "Given this evidence, Inspector Markov must update her beliefs. Further, she needs to perform inference to determine if there are likely combinations of suspects and weapons. \n",
    "\n"
   ]
  },
  {
   "cell_type": "markdown",
   "metadata": {},
   "source": [
    "Recall that the joint probability distribution is:\n",
    "\n",
    "$$p(B,C,W,MO,M)$$   \n",
    "where the letters indicate the following variables;   \n",
    "$B = $ unconditional probability that the butler committed the crime,   \n",
    "$C = $ unconditional probability that the cook committed the crime,   \n",
    "$W = $ the probability of the weapon, K = knife, P = poison, conditional on B and C.   \n",
    "$MO = $ the probability of a motive, conditional on C and B.    \n",
    "$M = $ the probability that the third party, the cook, C, or the butler, B, committed the crime, conditional on B, C, W, and MO.    \n",
    "\n",
    "Given the independencies, this distribution can be factorized in the following manner:\n",
    "\n",
    "$$p(B,C,W,MO,M) = p(B)\\ p(C)\\ p(W\\ |\\ B, C)\\ p(MO\\ |\\ B,C)\\ p(M\\ |\\ B, C, W, MO)$$\n"
   ]
  },
  {
   "cell_type": "markdown",
   "metadata": {},
   "source": [
    "As a first step in creating the belief network, import the packages you will need for this analysis."
   ]
  },
  {
   "cell_type": "code",
   "execution_count": 1,
   "metadata": {},
   "outputs": [],
   "source": [
    "from pgmpy.models import BayesianModel\n",
    "from pgmpy.factors.discrete import TabularCPD"
   ]
  },
  {
   "cell_type": "markdown",
   "metadata": {},
   "source": [
    "Next, define your directed graphical model in the cell below. You should use the model you defined in Homework 1 and used in Homework 2. Be sure to apply the `check_model` method to you model.\n",
    "\n",
    "> **Tip:** If you have saved your pickled model you are read it by uncommenting the code below. You will need to change the name `my_model.pickle` to whatever name you have save your model under. "
   ]
  },
  {
   "cell_type": "code",
   "execution_count": 2,
   "metadata": {},
   "outputs": [
    {
     "name": "stdout",
     "output_type": "stream",
     "text": [
      "True\n"
     ]
    }
   ],
   "source": [
    "#import pickle\n",
    "#with open('my_model.pickle', 'rb') as pkl:\n",
    "#    murder_model = pickle.load(pkl)\n",
    "\n",
    "#print(murder_model.check_model())"
   ]
  },
  {
   "cell_type": "markdown",
   "metadata": {},
   "source": [
    "Now that you have the model define, you are ready to apply **variable elimination** to perform inference. In the cell below create and execute code to do the following:    \n",
    "1. Create an inference object using the `VariableElimination` function.   \n",
    "2. Perform a query on the variable W. \n",
    "3. print the query for W. \n",
    "\n",
    "You can find [detailed documentation on the VariableELimination methods in the pgmpy documentation](http://pgmpy.org/inference.html). "
   ]
  },
  {
   "cell_type": "code",
   "execution_count": 3,
   "metadata": {},
   "outputs": [
    {
     "name": "stdout",
     "output_type": "stream",
     "text": [
      "+-----+----------+\n",
      "| W   |   phi(W) |\n",
      "+=====+==========+\n",
      "| W_0 |   0.3820 |\n",
      "+-----+----------+\n",
      "| W_1 |   0.6180 |\n",
      "+-----+----------+\n"
     ]
    },
    {
     "name": "stderr",
     "output_type": "stream",
     "text": [
      "C:\\Users\\StevePC2\\Anaconda3\\lib\\site-packages\\pgmpy\\factors\\discrete\\DiscreteFactor.py:586: FutureWarning: Using a non-tuple sequence for multidimensional indexing is deprecated; use `arr[tuple(seq)]` instead of `arr[seq]`. In the future this will be interpreted as an array index, `arr[np.array(seq)]`, which will result either in an error or a different result.\n",
      "  phi.values = phi.values[slice_]\n",
      "C:\\Users\\StevePC2\\Anaconda3\\lib\\site-packages\\pgmpy\\factors\\discrete\\DiscreteFactor.py:598: FutureWarning: Using a non-tuple sequence for multidimensional indexing is deprecated; use `arr[tuple(seq)]` instead of `arr[seq]`. In the future this will be interpreted as an array index, `arr[np.array(seq)]`, which will result either in an error or a different result.\n",
      "  phi1.values = phi1.values[slice_]\n"
     ]
    }
   ],
   "source": []
  },
  {
   "cell_type": "markdown",
   "metadata": {},
   "source": [
    "Now perform a query on the motive, MO, variable to find the marginal distribution.   "
   ]
  },
  {
   "cell_type": "code",
   "execution_count": 4,
   "metadata": {},
   "outputs": [
    {
     "name": "stdout",
     "output_type": "stream",
     "text": [
      "+------+-----------+\n",
      "| MO   |   phi(MO) |\n",
      "+======+===========+\n",
      "| MO_0 |    0.4600 |\n",
      "+------+-----------+\n",
      "| MO_1 |    0.5400 |\n",
      "+------+-----------+\n"
     ]
    }
   ],
   "source": []
  },
  {
   "cell_type": "markdown",
   "metadata": {},
   "source": [
    "These marginal distributions quantify the initial beliefs for these variables. Given these marginal distributions, which weapon and motive appears to be the most likely and why? "
   ]
  },
  {
   "cell_type": "markdown",
   "metadata": {},
   "source": [
    "ANS: "
   ]
  },
  {
   "cell_type": "markdown",
   "metadata": {},
   "source": [
    "What Inspector Markov really needs to know is the probability that each of the suspects committed the murder. In the cell below, create the code to make a query and print the results on the butler, B, and cook, C. "
   ]
  },
  {
   "cell_type": "code",
   "execution_count": 5,
   "metadata": {},
   "outputs": [
    {
     "name": "stdout",
     "output_type": "stream",
     "text": [
      "+-----+----------+\n",
      "| B   |   phi(B) |\n",
      "+=====+==========+\n",
      "| B_0 |   0.4000 |\n",
      "+-----+----------+\n",
      "| B_1 |   0.6000 |\n",
      "+-----+----------+\n",
      "+-----+----------+\n",
      "| C   |   phi(C) |\n",
      "+=====+==========+\n",
      "| C_0 |   0.7000 |\n",
      "+-----+----------+\n",
      "| C_1 |   0.3000 |\n",
      "+-----+----------+\n"
     ]
    }
   ],
   "source": []
  },
  {
   "cell_type": "markdown",
   "metadata": {},
   "source": [
    "It is possible that Inspector Markov could discover evidence which would cause the beliefs to be updated. \n",
    "\n",
    "For example, Sgt Bernoulli telephones the Inspector to say that he has discovered that the butler is indeed due the inheritance (MO = 1). Using this evidence compute the query and print the marginal distribution for the butler, B, and cook, C, are murders. These marginal distributions are the updated belief on who the perpetrator might be.   "
   ]
  },
  {
   "cell_type": "code",
   "execution_count": 6,
   "metadata": {},
   "outputs": [
    {
     "name": "stdout",
     "output_type": "stream",
     "text": [
      "+-----+----------+\n",
      "| B   |   phi(B) |\n",
      "+=====+==========+\n",
      "| B_0 |   0.0667 |\n",
      "+-----+----------+\n",
      "| B_1 |   0.9333 |\n",
      "+-----+----------+\n",
      "+-----+----------+\n",
      "| C   |   phi(C) |\n",
      "+=====+==========+\n",
      "| C_0 |   0.7000 |\n",
      "+-----+----------+\n",
      "| C_1 |   0.3000 |\n",
      "+-----+----------+\n"
     ]
    }
   ],
   "source": []
  },
  {
   "cell_type": "markdown",
   "metadata": {},
   "source": [
    "Notice how the marginal belief has changed for one suspect but not the other. How can you best explain this change, given the new evidence?"
   ]
  },
  {
   "cell_type": "markdown",
   "metadata": {},
   "source": [
    "ANS: "
   ]
  },
  {
   "cell_type": "markdown",
   "metadata": {},
   "source": [
    "Next, Dr. Turing, the medical examiner, call to say that she has discovered that poison was definitely used for the murder, or W = 0. Using this evidence compute the updated belief with a query and print the marginal distributions for the butler, B, and cook, C, are murders. "
   ]
  },
  {
   "cell_type": "code",
   "execution_count": 7,
   "metadata": {},
   "outputs": [
    {
     "name": "stdout",
     "output_type": "stream",
     "text": [
      "+-----+----------+\n",
      "| B   |   phi(B) |\n",
      "+=====+==========+\n",
      "| B_0 |   0.0699 |\n",
      "+-----+----------+\n",
      "| B_1 |   0.9301 |\n",
      "+-----+----------+\n",
      "+-----+----------+\n",
      "| C   |   phi(C) |\n",
      "+=====+==========+\n",
      "| C_0 |   0.5874 |\n",
      "+-----+----------+\n",
      "| C_1 |   0.4126 |\n",
      "+-----+----------+\n"
     ]
    }
   ],
   "source": []
  },
  {
   "cell_type": "markdown",
   "metadata": {},
   "source": [
    "Compare the marginal distributions of the cook and the butler being the murderer given the changes in belief from the new evidence of the weapon. How does this change the belief that the cook or the butler are murderers. "
   ]
  },
  {
   "cell_type": "markdown",
   "metadata": {},
   "source": [
    "ANS: "
   ]
  },
  {
   "cell_type": "markdown",
   "metadata": {},
   "source": [
    "You have performed the foregoing analysis using variable elimination. Now, you will perform analysis using the **junction tree algorithm**. \n",
    "\n",
    "In the cell below do the following:\n",
    "1. Create a belief propagation object using the `BeliefPropagation` function.  \n",
    "2. Print the `.factor` attribute of the object you created. \n",
    "\n",
    "Despite the name, the pgmpy `BeliefPropagation` model actually implements the Juncton Tree Algorithm. You can see a more complete description of the algorithm by [reading the documentation](http://pgmpy.org/inference.html#belief-propagation).  "
   ]
  },
  {
   "cell_type": "code",
   "execution_count": 8,
   "metadata": {},
   "outputs": [
    {
     "name": "stdout",
     "output_type": "stream",
     "text": [
      "defaultdict(<class 'list'>, {'B': [<DiscreteFactor representing phi(B:2) at 0x2a4c3e8fe80>, <DiscreteFactor representing phi(W:2, B:2, C:2) at 0x2a4c3e8ff98>, <DiscreteFactor representing phi(MO:2, B:2, C:2) at 0x2a4c3e8f0b8>, <DiscreteFactor representing phi(M:3, B:2, C:2, W:2, MO:2) at 0x2a4c3e8f198>], 'W': [<DiscreteFactor representing phi(W:2, B:2, C:2) at 0x2a4c3e8ff98>, <DiscreteFactor representing phi(M:3, B:2, C:2, W:2, MO:2) at 0x2a4c3e8f198>], 'C': [<DiscreteFactor representing phi(W:2, B:2, C:2) at 0x2a4c3e8ff98>, <DiscreteFactor representing phi(C:2) at 0x2a4c3e8ff28>, <DiscreteFactor representing phi(MO:2, B:2, C:2) at 0x2a4c3e8f0b8>, <DiscreteFactor representing phi(M:3, B:2, C:2, W:2, MO:2) at 0x2a4c3e8f198>], 'MO': [<DiscreteFactor representing phi(MO:2, B:2, C:2) at 0x2a4c3e8f0b8>, <DiscreteFactor representing phi(M:3, B:2, C:2, W:2, MO:2) at 0x2a4c3e8f198>], 'M': [<DiscreteFactor representing phi(M:3, B:2, C:2, W:2, MO:2) at 0x2a4c3e8f198>]})\n"
     ]
    }
   ],
   "source": []
  },
  {
   "cell_type": "markdown",
   "metadata": {},
   "source": [
    "Examine these results, considering the structure of the DAG and its cliques. "
   ]
  },
  {
   "cell_type": "markdown",
   "metadata": {},
   "source": [
    "Now, compute a query and print the results for the prior belief (belief with no evidence) for the butler, B, and cook, C, being murderers. "
   ]
  },
  {
   "cell_type": "code",
   "execution_count": 9,
   "metadata": {},
   "outputs": [
    {
     "name": "stdout",
     "output_type": "stream",
     "text": [
      "+-----+----------+\n",
      "| C   |   phi(C) |\n",
      "+=====+==========+\n",
      "| C_0 |   0.7000 |\n",
      "+-----+----------+\n",
      "| C_1 |   0.3000 |\n",
      "+-----+----------+\n",
      "+-----+----------+\n",
      "| B   |   phi(B) |\n",
      "+=====+==========+\n",
      "| B_0 |   0.4000 |\n",
      "+-----+----------+\n",
      "| B_1 |   0.6000 |\n",
      "+-----+----------+\n"
     ]
    }
   ],
   "source": []
  },
  {
   "cell_type": "markdown",
   "metadata": {},
   "source": [
    "Now, perform the same queries, but include the evidence that the motive what the inheritance (MO = 1) and the weapon was the poison (W = 0). "
   ]
  },
  {
   "cell_type": "code",
   "execution_count": 10,
   "metadata": {},
   "outputs": [
    {
     "name": "stdout",
     "output_type": "stream",
     "text": [
      "+-----+----------+\n",
      "| C   |   phi(C) |\n",
      "+=====+==========+\n",
      "| C_0 |   0.5874 |\n",
      "+-----+----------+\n",
      "| C_1 |   0.4126 |\n",
      "+-----+----------+\n",
      "+-----+----------+\n",
      "| B   |   phi(B) |\n",
      "+=====+==========+\n",
      "| B_0 |   0.0699 |\n",
      "+-----+----------+\n",
      "| B_1 |   0.9301 |\n",
      "+-----+----------+\n"
     ]
    }
   ],
   "source": []
  },
  {
   "cell_type": "markdown",
   "metadata": {},
   "source": [
    "Compare the results of the two queries you have just performed with the junction tree algorithm with the equivalent queries you performed with the variable elimination algorithm. Are the results different? Does this outcome surprise you?"
   ]
  },
  {
   "cell_type": "markdown",
   "metadata": {},
   "source": [
    "ANS: "
   ]
  },
  {
   "cell_type": "markdown",
   "metadata": {},
   "source": [
    "Recall, that there was the possibility that a third party, not the butler or the cook, may have committed the murder. Perform and print a query of the prior marginal of the murderer variable, M."
   ]
  },
  {
   "cell_type": "code",
   "execution_count": 11,
   "metadata": {},
   "outputs": [
    {
     "name": "stdout",
     "output_type": "stream",
     "text": [
      "+-----+----------+\n",
      "| M   |   phi(M) |\n",
      "+=====+==========+\n",
      "| M_0 |   0.2800 |\n",
      "+-----+----------+\n",
      "| M_1 |   0.2100 |\n",
      "+-----+----------+\n",
      "| M_2 |   0.5100 |\n",
      "+-----+----------+\n"
     ]
    }
   ],
   "source": []
  },
  {
   "cell_type": "markdown",
   "metadata": {},
   "source": [
    "Next, perform and print the query of the murderer variable, M, but with the evidence, MO = 1 and W = 0. "
   ]
  },
  {
   "cell_type": "code",
   "execution_count": 15,
   "metadata": {},
   "outputs": [
    {
     "name": "stdout",
     "output_type": "stream",
     "text": [
      "+-----+----------+\n",
      "| M   |   phi(M) |\n",
      "+=====+==========+\n",
      "| M_0 |   0.0000 |\n",
      "+-----+----------+\n",
      "| M_1 |   0.2413 |\n",
      "+-----+----------+\n",
      "| M_2 |   0.7587 |\n",
      "+-----+----------+\n"
     ]
    }
   ],
   "source": []
  },
  {
   "cell_type": "markdown",
   "metadata": {},
   "source": [
    "Compare the prior marginal to the marginal including evidence. Is the change in the results consistent with the evidence and why?   "
   ]
  },
  {
   "cell_type": "markdown",
   "metadata": {},
   "source": [
    "ANS: "
   ]
  },
  {
   "cell_type": "markdown",
   "metadata": {},
   "source": [
    "There are many other possible queries you can perform on this model. You may wish to explore some more of these. "
   ]
  }
 ],
 "metadata": {
  "kernelspec": {
   "display_name": "Python 3",
   "language": "python",
   "name": "python3"
  },
  "language_info": {
   "codemirror_mode": {
    "name": "ipython",
    "version": 3
   },
   "file_extension": ".py",
   "mimetype": "text/x-python",
   "name": "python",
   "nbconvert_exporter": "python",
   "pygments_lexer": "ipython3",
   "version": "3.7.3"
  }
 },
 "nbformat": 4,
 "nbformat_minor": 2
}
