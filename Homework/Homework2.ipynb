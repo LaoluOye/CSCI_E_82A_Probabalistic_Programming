{
 "cells": [
  {
   "cell_type": "markdown",
   "metadata": {},
   "source": [
    "# Homework 2\n",
    "## CSCI E-82a\n",
    "\n",
    "## Properties of Undirected Graphical Models\n",
    "\n",
    "In the previous homework you created a DAG to represent the probability of variables for a fictional murder investigation. In this exercise you examined the independence properties of the DAG you created. \n",
    "\n",
    "Now you will investigate the properties of an undirected graphical model, or Markov Random Field (MRF) derived from your DAG. \n",
    "\n",
    "As a first step, import the packages you will need for this analysis. "
   ]
  },
  {
   "cell_type": "code",
   "execution_count": 1,
   "metadata": {},
   "outputs": [],
   "source": [
    "from pgmpy.models import BayesianModel\n",
    "from pgmpy.factors.discrete import TabularCPD"
   ]
  },
  {
   "cell_type": "markdown",
   "metadata": {},
   "source": [
    "In the cell below, recreate the DAG you created in the first homework. You may do so by simply coping the code you previously created. Make sure you apply the `check_model` method to your model object to make sure there are no errors before you move on. "
   ]
  },
  {
   "cell_type": "code",
   "execution_count": null,
   "metadata": {},
   "outputs": [],
   "source": []
  },
  {
   "cell_type": "markdown",
   "metadata": {},
   "source": [
    "Immoralities are an important property of a DAG which is to be transformed to a MRF. Apply the `get_immoralities` method to your DAG object and examine the result. "
   ]
  },
  {
   "cell_type": "code",
   "execution_count": null,
   "metadata": {},
   "outputs": [],
   "source": []
  },
  {
   "cell_type": "markdown",
   "metadata": {},
   "source": [
    "To answer this and subsequent questions you may wish to draw a diagram of your DAG. Do these immoralities make sense given the number of v-structures in the DAG and why? "
   ]
  },
  {
   "cell_type": "markdown",
   "metadata": {},
   "source": [
    "ANS: Yes, there are actually 3 V-structures in the DAG, B -> W <- C, B -> W <- C, and W -> M <- MO. Thus, the nodes that must be married are ('B','C') and ('MO','W'). "
   ]
  },
  {
   "cell_type": "markdown",
   "metadata": {},
   "source": [
    "Next, do the following:   \n",
    "1. Transform your DAG object to a Markov network using the `to_markov_model` method. \n",
    "2. Find the factors of your Markov network using the `get_factors` method. "
   ]
  },
  {
   "cell_type": "code",
   "execution_count": null,
   "metadata": {},
   "outputs": [],
   "source": []
  },
  {
   "cell_type": "markdown",
   "metadata": {},
   "source": [
    "Examine these factors. Do these factors correspond to cliques of the moralized graph, and why? Are these all maximal cliques or not, and why? "
   ]
  },
  {
   "cell_type": "markdown",
   "metadata": {},
   "source": [
    "ANS: These factors do correspond to cliques of the graph, since a clique can be any collection of neighbors on a graph, including a single node. Not all these cliques are maximal. For example there are single node cliques. "
   ]
  },
  {
   "cell_type": "markdown",
   "metadata": {},
   "source": [
    "Finally, print the Markov blankets for nodes W and MO and examine the results. "
   ]
  },
  {
   "cell_type": "code",
   "execution_count": null,
   "metadata": {},
   "outputs": [],
   "source": []
  },
  {
   "cell_type": "markdown",
   "metadata": {},
   "source": [
    "Do these Markov blankets appear to be correct, and why?"
   ]
  },
  {
   "cell_type": "markdown",
   "metadata": {},
   "source": [
    "ANS: Given the structure of the graph the Markov blanket of each of these nodes include all the other nodes as shown. "
   ]
  }
 ],
 "metadata": {
  "kernelspec": {
   "display_name": "Python 3",
   "language": "python",
   "name": "python3"
  },
  "language_info": {
   "codemirror_mode": {
    "name": "ipython",
    "version": 3
   },
   "file_extension": ".py",
   "mimetype": "text/x-python",
   "name": "python",
   "nbconvert_exporter": "python",
   "pygments_lexer": "ipython3",
   "version": "3.7.3"
  }
 },
 "nbformat": 4,
 "nbformat_minor": 2
}
