{
 "cells": [
  {
   "cell_type": "markdown",
   "metadata": {},
   "source": [
    "# Introduction to Deep Q Learning\n",
    "\n",
    "## CSCI E-82A\n",
    "\n",
    "## Stephen Elston"
   ]
  },
  {
   "cell_type": "markdown",
   "metadata": {},
   "source": [
    "To date we have only considered reinforcement learning problems with a small number of **discrete states**. So far, we have applied **tabular algorithms** to the solution of RL problems. However, tabular methods will not work in cases where the tables are too large to be held in computer memory or where states are not discrete values. \n",
    "\n",
    "But, many practical problems have eight very large numbers of discrete states or have continuous states. Some example of such problems:  \n",
    "1. A Game such as chess or backgammon with a great number of possible board states. While the number of states is **countably finite** there are far too many for tabular solutions. For example, consider that each piece in a chess game can occupy any of 64 positions, and that there are anywhere between 32 pieces and 2 pieces on the board at a given time step. This situation leads to an explosion in possible states. Other games, such a Go, have far more states than chess.   \n",
    "2. A simple flight control system for a drone which has an infinite number of states in terms of 3-dimensional velocity, acceleration, and position, along with pitch yaw and role. All 12 of these variables have **continuous values** and, thus, an **infinite number of states**.   \n",
    "\n",
    "To address such problems we must have a better representations. In this lesson we will focus on a powerful class of representations known as **function approximation**. By using function approximation we can represent a large number of states, even an infinite number, with a limited number of **parameters**. Using function approximation problems of great complexity can be tackled, at least in theory.  \n",
    "\n",
    "A reinforcement learning agent using function approximation is illustrated schematically in the figure below. \n",
    "\n",
    "<img src=\"img/AgentEnvironment.JPG\" alt=\"Drawing\" style=\"width:500px; height:300px\"/>\n",
    "<center> **Reinforcement Learning Agent with Function Approximation Representation and Environment** </center>  \n",
    "\n",
    "In this lesson we will only address function approximation methods for **episodic** tasks. \n",
    "\n",
    ">**Suggested reading:** The following sections of Sutton and Barto, second edition, provide additional scope for the topics of this lesson: 9.1, 9.2, 9.3, 9.4, 9.5, 10.1, and 10.2.\n",
    "\n",
    ">**For further exploration:** The resources of [Open AI Gym](https://gym.openai.com/) provide a rich set of simulators along with a framework to help you construct and test RL algorithms. \n",
    "\n",
    ">**Code examples in depth:** *Deep Reinforcement Learning Hands-On* by Maxim Lapan, Packt, 2018, provides considerable detail on deep Q learning. The book contains in-depth examples and discusses important implementation details. The examples in this book use the PyTorch deep learning framework. \n",
    "\n",
    "In order to run all of the examples in this notebook you will need to install [Keras](https://keras.io/) and h5py; `pip install h5py`."
   ]
  },
  {
   "cell_type": "markdown",
   "metadata": {},
   "source": [
    "## Representation for Non-Tabular RL\n",
    "\n",
    "The main question we will address in this lesson is what representations can we use when tabular methods will not work. The idea key idea is to **encode** a large, possibly infinite, number of states with a **few parameters**. Thus, **state values** or **action values** are represented by some **function of the state** of the environment.  \n",
    "\n",
    "There are, in fact, many possible approaches to this problem. Here we will focus on function approximation methods of which a few examples are: \n",
    "1. Simple **linear** and **polynomial** representations,\n",
    "2. **Fourier basis function** representations,\n",
    "3. **Course coding** using overlapping circular or elliptical regions,\n",
    "4. Various forms of **tile coding**,\n",
    "5. **Radial basis functions** or kernels,\n",
    "5. **Fully connected** deep neural networks, \n",
    "6. **Convolutional** deep neural networks. \n",
    "\n",
    "Each of the first five methods involve **coding** using some type of **basis function**. Basis functions rely on an implicit assumption that **nearby states have similar values**.  The representation is then **linear in the parameters** and **linear solution methods** are used to find these parameters. Linear methods have the advantage of computational efficiency. Further, at least for **on-policy** algorithms, **convergence is guaranteed**.     \n",
    "\n",
    "The deep neural networks provide a distinctly nonlinear function approximation method. Typically, deep neural networks are used for **off-policy Q-Learning** methods. The convergence properties of these algorithms can be problematic. In fact, there are few guarantees of convergence with **off-policy function approximation** algorithms.     "
   ]
  },
  {
   "cell_type": "markdown",
   "metadata": {},
   "source": [
    "### Tile coding\n",
    "\n",
    "Tile coding is a flexible and expressive function approximation method. The basic idea is simple. The **state space is divided** into small patches using a regular pattern of **geometric shapes** or **tiles**. The function approximation has one parameter (weight) for each tile.    \n",
    "\n",
    "An example tile coding of a two dimensional state space is shown in the figure below. In this case, a uniform 8x8 set of tiles are used, leading to a representation with 64 parameters. \n",
    "\n",
    "<img src=\"img/Tile1.JPG\" alt=\"Drawing\" style=\"width:300px; height:300px\"/>\n",
    "<center> **Two-dimensional state space encoded by 8x8 rectangular tiles** </center>\n",
    "\n",
    "In the above diagram the states shown by **X** are in the same tile and will be coded with the same parameter. The states show by **O** are in different tiles and are coded with different parameters. \n",
    "\n",
    "However, the tile codings are far from unique. Consider the tiling of the same state space shown in the figure below. In this case the tiles are a 4X16 grid. As in the first case, there are still 64 parameters. \n",
    "\n",
    "<img src=\"img/Tile2.JPG\" alt=\"Drawing\" style=\"width:300px; height:300px\"/>\n",
    "<center> **Two-dimensional state space encoded by 4x16 rectangular tiles** </center>\n",
    "\n",
    "In the above coding the states shown with **O** are in the same tile and represented by the same parameter. But, the states shown as **X** are now in different tiles and are represented by different parameters. \n",
    "\n",
    "A great many tile coding schemes are possible. Commonly, multiple tiling schemes are used simultaneously. This practice allows for the capture of information at **different scales**. "
   ]
  },
  {
   "cell_type": "markdown",
   "metadata": {},
   "source": [
    "### Deep neural networks\n",
    "\n",
    "Deep neural networks are powerful function approximation methods. In most cases one of two deep neural network architectures are used:\n",
    "1. Fully connected network are used for cases where there are complex and highly nonlinear relationships between state values or action values. \n",
    "2. Convolutional networks are useful for cases where there is value coherency between adjacent states. Common examples include images and time series data.  \n",
    "\n",
    "In principle deep neural networks can approximate even highly complex nonlinear functions. Neural networks have been reviewed in a previous lesson. Here, we will just summarize some of the drawbacks of this attractive representation. \n",
    "1. Given the large number of parameters a large number of episodes are required for training. It is not unusual for several tens of millions of episodes to be required. Therefore, training time can be significantly longer than for other algorithms.\n",
    "2. As a result of the large number of parameters (high degrees of freedom) over-fitting is a constant problem. Careful attention must be paid to regularization methods. \n",
    "3. Deep neural network are known to have **brittle behavior**, wherein small changes in the input can result in surprising or unexpected predictions.\n",
    "\n",
    "The foregoing not withstanding, trained neural network models can be reasonably computationally efficient. In fact, prediction using trained neural network models is preformed routinely, even in embedded environments. "
   ]
  },
  {
   "cell_type": "markdown",
   "metadata": {},
   "source": [
    "## Linear Function and Stochastic Gradient Decent\n",
    "\n",
    "Following the discussion above, basis function methods are linear in their parameters. In the following we will express these parameters as a vector of model weights, $\\mathbf{w}$. We can then represent the approximate state value function with state $x(s)$ as:\n",
    "\n",
    "$$\\hat{v}(s,\\mathbf{w}) = \\mathbf{w}^T \\mathbf{x}(s) =  \\sum_{i=1}^d   w_i  x_i(s)$$\n",
    "\n",
    "In principle, **stochastic gradient decent** algorithms are an efficient way to solve for the weights, $\\mathbf{w}$. At each step the update is just:\n",
    "\n",
    "$$\\mathbf{w}_{t+1} = \\mathbf{w}_t + \\alpha\\ E_{\\hat{p}data}\\Big[ \\nabla_{w} J(\\mathbf{w}_t) \\Big]\\\\\n",
    "= \\mathbf{w}_t + \\alpha  \\big[v_{\\pi}(s) - \\hat{v}(S_t, \\mathbf{w}_t) \\big]\\nabla_w \\hat{v}(S_t,\\mathbf{w}_t)$$\n",
    "\n",
    "where, $\\hat{p}data$ is the mini-batch, and gradient is given by:   \n",
    "\n",
    "$$\\hat\\nabla_w {v}(S_t,\\mathbf{w}_t) = \n",
    "\\begin{bmatrix} \n",
    "\\frac{\\partial \\hat{v}(S_t,\\mathbf{w}_t)}{\\partial w_1} \\\\\n",
    "\\frac{\\partial \\hat{v}(S_t,\\mathbf{w}_t)}{\\partial w_2} \\\\\n",
    "\\vdots \\\\\n",
    "\\frac{\\partial \\hat{v}(S_t,\\mathbf{w}_t)}{\\partial w_d}\n",
    "\\end{bmatrix}$$\n",
    "\n",
    "\n",
    "In many practical algorithms, $\\hat{v}(s)$ is a **bootstrapped** approximation. This means are error term and gradient are not exact. We call such algorithms **semi-gradient decent** methods as they use an approximation of the gradient. This approach generally works well, but does not have the strong convergence guarantees of stochastic gradient decent. "
   ]
  },
  {
   "cell_type": "markdown",
   "metadata": {},
   "source": [
    "## Function Approximation Error\n",
    "\n",
    "As already noted, when tabular algorithms are not feasible, we must resort to function approximation. We can use function approximation for both state values, $\\hat{v}(s)$, and action values, $\\hat{q}(s,a)$. We should always keep in mind that we are dealing with **approximations** and will never know the true state values, $v_{\\pi}(s)$, and action values, $q_{\\pi}(s,a)$. There will always be some **error** between the true values and the approximated values. For example, for state value approximation we can express this error as the **mean squared value error**:\n",
    "\n",
    "$$\\overline{VE}(\\mathbf{w}) = \\sum_{s \\in S} \\mu(s) \\Big[ v_{\\pi}(s) -  \\hat{v}(s,\\mathbf{w}) \\Big]^2$$  \n",
    "\n",
    "Here, $\\mu(s)$ is a weight indicating home important the state $s$ is. For on-policy RL, $\\mu(s)$ is a probability known as the **on-policy distribution**. \n",
    "\n",
    "A similar error metric can be constructed for $\\hat{q}(s,a)$.  \n",
    "\n",
    "In practical terms there is a trade-off between the complexity of the approximate representation and the error. More complex representations require more parameters, but have lower error and vice versa. This situation is exactly analogous to the bias-variance trade-off, familiar from machine learning.   "
   ]
  },
  {
   "cell_type": "markdown",
   "metadata": {},
   "source": [
    "## The Mountain Car Problem\n",
    "\n",
    "The [mountain car problem](https://en.wikipedia.org/wiki/Mountain_car_problem) was first proposed in the [Andew Moore's Ph.D. dissertation (1990)](http://citeseerx.ist.psu.edu/viewdoc/summary?doi=10.1.1.17.2654). The mountain car problem has become a canonical testbed for many reinforcement learning algorithms. \n",
    "\n",
    "In this problem an under-powered car must climb a steep hill. However, the car does not have sufficient engine power to climb the grade. The car must travel up another hill in order to gain sufficient speed (actually kinetic energy) to climb the large hill. \n",
    "\n",
    "The position, $x$, and velocity, $\\dot{x}$, of the car are the state variables. The updates of the state variables at each time step are determined by the following equations: \n",
    "\n",
    "$$x' = x + \\dot{x} \\\\\n",
    "\\dot{x}' = \\dot{x} + 0.001 * \\ddot{x} - 0.0025 * cos(3 * x)$$\n",
    "\n",
    "The object of this problem is to find the optimal acceleration given the car state to allow the car to get to the top of the hill. The car has three acceleration states, $\\ddot{x}$, which must be selected by the agent:\n",
    "\n",
    "$$\\ddot{x} = \\{ -1.0, 0.0, 1.0 \\}$$\n",
    "\n",
    "The position and velocity are bounded, with the goal at the upper bound of position:\n",
    "\n",
    "$$-1.2 \\le x \\le 0.5 \\\\\n",
    "-0.07 \\le \\dot{x} \\le 0.07$$\n",
    "\n",
    "The reward at each time step is -1.0 and the reward for reaching the goal is 100.  \n",
    "\n",
    "The car is randomly initialized using a uniform distribution:\n",
    "\n",
    "$$p(x_0) = uniform(-0.6 \\le x_0 \\le -0.4)$$"
   ]
  },
  {
   "cell_type": "markdown",
   "metadata": {},
   "source": [
    "### The mountain car problem is hard\n",
    "\n",
    "At first glance, the mountain car problem may seem like it should have an easy solution. However, looks are deceptive. The learning an optimal policy for this problem is difficult. In fact, conventional control theory approaches fail to provide solutions. Some reasons for this difficulty include:\n",
    "1. The non-linear coupling between the two state variables, which makes the state transitions between the infinite number of states hard to predict.\n",
    "2. The delayed reward which is only observed when the goal is achieved. This fact is common to many difficult RL problems. "
   ]
  },
  {
   "cell_type": "markdown",
   "metadata": {},
   "source": [
    "## Q-Learning and Function Approximation\n",
    "\n",
    "Recall the single step Q-learning or **Q-learning(0)** update is:\n",
    "\n",
    "$$Q(S_t,A_t) = Q(S_t,A_t) + \\alpha \\big[ R_{t+1} + \\gamma\\ max_a Q(S_{t+1},a) - Q(S_t,A_t) \\big]$$  \n",
    "\n",
    "Where,   \n",
    "$\\delta_t = R_{t+1} + \\gamma max_a Q(S_{t+1},a) - Q(S_t,A_t) = $ the TD error,   \n",
    "$max_a = $ the maximum operator applied to all possible actions in state $S_{t+1}$,   \n",
    "$Q(S_t,A_t) = $ is the action value in state S given action A,  \n",
    "$R_{t+1} = $ is the reward for the next time step,   \n",
    "$\\alpha = $ the learning rate,   \n",
    "$\\gamma = $ discount factor.  \n",
    "\n",
    "But, what happens when we try to use a function approximator? Using, $\\hat{Q}(S_t,A_t, w_t)$, the function approximation, the Q-learning update becomes:   \n",
    "\n",
    "$$\\hat{Q}(S_t,A_t, w_t) = \\hat{Q}(S_t,A_t, w_t) + \\alpha \\big[ R_{t+1} + \\gamma\\ max_a \\hat{Q}(S_{t+1},a, w_t) - \\hat{Q}(S_t,A_t, w_t) \\big]$$  \n",
    "\n",
    "The above relationship uses the $max$ operator, a **nonlinear operation**. But, the weight vector, $\\mathbf{w}$, of the function approximator, $\\hat{Q}(S_t,A_t, \\mathbf{w})$, must minimize the error:   \n",
    "\n",
    "$$\\overline{VE}(\\mathbf{w}) = \\sum_{s \\in S} \\mu(s) \\Big[ q_{\\pi}(s,a) -  \\hat{q}(s,a, \\mathbf{w}) \\Big]^2$$ \n",
    "\n",
    "The above is a **least squares minimization** relationship. \n",
    "\n",
    "The combination of the update   "
   ]
  },
  {
   "cell_type": "markdown",
   "metadata": {},
   "source": [
    "### Simulation of car environment\n",
    "\n",
    "The code in the cell below **simulates the car environment**. Two functions are used by the agent to interact with the environment:\n",
    "1. The `sim_car` function returns a state transition and a reward, given the agent's current state and an action. In addition, a flag is returned to indicate if the goal has been reached.\n",
    "2. The `initialize_car` function returns a random starting position for the car within the specified bounds. \n",
    "\n",
    "Taken together, calls to these two functions define the **boundary between the agent and the environement**. Execute the code in the cell below to exercise these functions and examine the resulting plots for a case where the acceleration is set to 0. \n",
    "\n",
    ">**Note:** An Open AI Gym [environment simulator](https://gym.openai.com/envs/MountainCarContinuous-v0/) for the mountain car problem is available. "
   ]
  },
  {
   "cell_type": "code",
   "execution_count": 1,
   "metadata": {
    "scrolled": false
   },
   "outputs": [
    {
     "data": {
      "image/png": "[encoded data removed]",
      "text/plain": [
       "<Figure size 432x288 with 2 Axes>"
      ]
     },
     "metadata": {},
     "output_type": "display_data"
    }
   ],
   "source": [
    "from math import cos\n",
    "import numpy as np\n",
    "import numpy.random as nr\n",
    "import matplotlib.pyplot as plt\n",
    "%matplotlib inline\n",
    "\n",
    "def sim_car(x, x_dot, acceleration, x_lims = (-1.2,0.5), x_dot_lims = (-0.07,0.07)):\n",
    "    ## Compute velocity within limits\n",
    "    x_dot_prime = x_dot + 0.001 * acceleration - 0.0025 * cos(3.0 * x)\n",
    "    if(x_dot_prime < x_dot_lims[0]): x_dot_prime = x_dot_lims[0]\n",
    "    if(x_dot_prime > x_dot_lims[1]): x_dot_prime = x_dot_lims[1]\n",
    "        \n",
    "    ## Now update position\n",
    "    x_prime = x + x_dot\n",
    "    if(x_prime < x_lims[0]): x_prime = x_lims[0]\n",
    "    if(x_prime > x_lims[1]): x_prime = x_lims[1]\n",
    "      \n",
    "    ## At the terminal state or not and set reward\n",
    "    if(x_prime >= x_lims[1]): \n",
    "        done = True\n",
    "        reward = 100.0\n",
    "    else: \n",
    "        done = False\n",
    "        reward = -1.0\n",
    "        \n",
    "    return(x_prime, x_dot_prime, done, reward)    \n",
    "        \n",
    "def initalize_car(x_lims = (-0.6,-0.4)):\n",
    "    ## Find random start for car\n",
    "    return(nr.uniform(x_lims[0],x_lims[1]))\n",
    "\n",
    "## Test the function\n",
    "a = -0.0\n",
    "x_dot = [0.0]\n",
    "x = [initalize_car()]\n",
    "for i in range(100):\n",
    "    x_temp, x_dot_temp, done, reward = sim_car(x[i], x_dot[i], a)\n",
    "    x.append(x_temp)\n",
    "    x_dot.append(x_dot_temp)\n",
    "    \n",
    "def plot_car(x, x_dot):    \n",
    "    ## Plot car position\n",
    "    fig = plt.figure()\n",
    "    ax1 = fig.add_subplot(211)    \n",
    "    ax1.plot(x)\n",
    "    ax1.set_ylabel('Positon of car')\n",
    "    \n",
    "    ## PLot car velocity\n",
    "    ax2 = fig.add_subplot(212)  \n",
    "    ax2.plot(x_dot)\n",
    "    ax2.set_ylabel('Velocity of car')\n",
    "    ax2.set_xlabel('Time')\n",
    "    \n",
    "plot_car(x,x_dot)    "
   ]
  },
  {
   "cell_type": "markdown",
   "metadata": {},
   "source": [
    "With no acceleration applied, the car oscillates back and forth. The motion is not damped since the simulator includes no friction term. "
   ]
  },
  {
   "cell_type": "markdown",
   "metadata": {},
   "source": [
    "## Deep NN Function Approximation for the Mountain Car Problem\n",
    "\n",
    "A general, but computationally intensive, solution to the mountain car problem can be obtained using **deep Q-Learning**. Here we use a neural network model as a function approximator for the action values, $\\hat{q}(S_{t}, A_{t}, w_{t-1})$.   \n",
    "\n",
    "The code in the cell below defines a simple neural network model to approximate the action values for the mountain car problems. A few key points include:\n",
    "- There are three input variables, the two state variables, position and velocity, along with the action. \n",
    "- A single hidden layer of 20 units is used. This is a rather spare representation, but is chosen for convenience of the demonstration rather than accuracy. \n",
    "- Since over-fitting is a constant problem with neural networks three regularization methods are applied, l2 regularization, dropout regularization and early stopping. \n",
    "- Since this is a regression problem, to approximate the numeric action value, the output layer consists of a single unit with linear activation. \n",
    "\n",
    "Execute this code to run the simple test case.\n",
    "\n",
    ">**Note:** The code shown in this notebook is intended to illustrate the basic concepts of deep Q-Learning. For more robust solutions you are advised to look at the contributed [keras-rl package](https://github.com/keras-rl/keras-rl)."
   ]
  },
  {
   "cell_type": "code",
   "execution_count": 2,
   "metadata": {},
   "outputs": [
    {
     "name": "stderr",
     "output_type": "stream",
     "text": [
      "Using TensorFlow backend.\n"
     ]
    },
    {
     "data": {
      "text/plain": [
       "array([[0.03643125]], dtype=float32)"
      ]
     },
     "execution_count": 2,
     "metadata": {},
     "output_type": "execute_result"
    }
   ],
   "source": [
    "import keras\n",
    "import keras.utils.np_utils as ku\n",
    "import keras.models as models\n",
    "import keras.layers as layers\n",
    "from keras.layers import Dropout\n",
    "from keras import regularizers\n",
    "\n",
    "def DL_model():\n",
    "    ## Define the Keras model\n",
    "    function_approx = models.Sequential()\n",
    "    function_approx.add(layers.Dense(3, activation = 'relu', input_shape = (3,), \n",
    "                                     kernel_regularizer=regularizers.l2(0.01)))\n",
    "    function_approx.add(Dropout(0.5)) # Use 50% dropout\n",
    "    function_approx.add(layers.Dense(20, activation = 'relu', kernel_regularizer=regularizers.l2(0.01)))\n",
    "    function_approx.add(Dropout(0.5)) # Use 50% dropout\n",
    "    function_approx.add(layers.Dense(1, activation = 'linear'))\n",
    "    function_approx.compile(optimizer = 'rmsprop', loss = 'mse', metrics = ['mae'])\n",
    "    ## Define the callback list for early stopping   \n",
    "    filepath = 'my_model_file.hdf5' # define where the model checkpoints are saved\n",
    "    callbacks_list = [keras.callbacks.EarlyStopping( #monitor = 'val_loss', patience = 1)\n",
    "            monitor = 'val_loss', # Use loss to monitor the model\n",
    "            patience = 1 # Stop after one step with lower accuracy\n",
    "        ),\n",
    "        keras.callbacks.ModelCheckpoint(\n",
    "            filepath = filepath, # file where the checkpoint is saved\n",
    "            monitor = 'val_loss', # Don't overwrite the saved model unless val_loss is worse\n",
    "            save_best_only = True # Only save model if it is the best\n",
    "        )\n",
    "    ]\n",
    "    return(function_approx)\n",
    "function_approx = DL_model()\n",
    "function_approx.predict(np.array([[0.1,0.1,0.0]]))"
   ]
  },
  {
   "cell_type": "code",
   "execution_count": 3,
   "metadata": {},
   "outputs": [
    {
     "name": "stdout",
     "output_type": "stream",
     "text": [
      "_________________________________________________________________\n",
      "Layer (type)                 Output Shape              Param #   \n",
      "=================================================================\n",
      "dense_1 (Dense)              (None, 3)                 12        \n",
      "_________________________________________________________________\n",
      "dropout_1 (Dropout)          (None, 3)                 0         \n",
      "_________________________________________________________________\n",
      "dense_2 (Dense)              (None, 20)                80        \n",
      "_________________________________________________________________\n",
      "dropout_2 (Dropout)          (None, 20)                0         \n",
      "_________________________________________________________________\n",
      "dense_3 (Dense)              (None, 1)                 21        \n",
      "=================================================================\n",
      "Total params: 113\n",
      "Trainable params: 113\n",
      "Non-trainable params: 0\n",
      "_________________________________________________________________\n"
     ]
    }
   ],
   "source": [
    "function_approx.summary()"
   ]
  },
  {
   "cell_type": "markdown",
   "metadata": {},
   "source": [
    "The code in the cell below preforms greedy selection of the next action. The neural network is used to predict the action value for each possible action and the maximum is selected. Execute this code to run the simple test case. "
   ]
  },
  {
   "cell_type": "code",
   "execution_count": 4,
   "metadata": {},
   "outputs": [
    {
     "data": {
      "text/plain": [
       "(0.1, 0.1, 0.2, 0.07, 0.0, False, -0.9672118790447712, 0.045964763)"
      ]
     },
     "execution_count": 4,
     "metadata": {},
     "output_type": "execute_result"
    }
   ],
   "source": [
    "def compute_Q_values(x,x_dot,x_prime,x_dot_prime,action,actions,gamma,epsilon,online_model,target_model):\n",
    "    '''This function representst the core of the DQN algorithm. The function \n",
    "    generates a sample state transiton and associtated Q values using the \n",
    "    current models. The next state and action, along with an indicator if done \n",
    "    are returned.'''\n",
    "    Q_target = []\n",
    "    ## Iterate over all actions to find target Q values\n",
    "    for a in actions:\n",
    "        Q_target.append(target_model.predict(np.array([[x_prime,x_dot_prime,a]]))[0][0])\n",
    "    ## Find the next action using epsilon greedy algorithm\n",
    "    if(nr.uniform() <= epsilon): # take random aciton\n",
    "        max_index = nr.choice(range(len(actions)), replace = True)\n",
    "    else: # take greedy action\n",
    "        ## Find the action with max Q\n",
    "        max_index = np.argmax(Q_target)\n",
    "    ## Get the next action from the successor state\n",
    "    action_prime = actions[max_index]\n",
    "    \n",
    "    ## Find Q from the online model for the the action selected \n",
    "    Q_online = online_model.predict(np.array([[x,x_dot,action]]))[0][0]\n",
    "    \n",
    "    ## Update x and x_dot\n",
    "    x = x_prime\n",
    "    x_dot = x_dot_prime\n",
    "    \n",
    "    ## Find the next state, reward and if done\n",
    "    x_prime, x_dot_prime, done, reward = sim_car(x, x_dot, action_prime)\n",
    "    ## update the Q target\n",
    "    Q_out = reward + gamma * Q_target[max_index]\n",
    "    return(x, x_dot, x_prime, x_dot_prime, action_prime, done, Q_out, Q_online) #, actions[max_index], max_index)\n",
    "\n",
    "## Simple test of the funciton using a random model for both online and target\n",
    "actions = [-1.0,0.0,1.0]        \n",
    "compute_Q_values(0.1,0.0,0.1,0.1,0.0,actions,0.9,0.05,function_approx,function_approx)    "
   ]
  },
  {
   "cell_type": "markdown",
   "metadata": {},
   "source": [
    "The code in the cell below execute a simple Q-Learning algorithm using the previously defined neural network model as the function approximator. Some important points for this algorithm are:\n",
    "1. An $\\epsilon$-greedy approach is used to select actions. \n",
    "2. The target action value,  $\\hat{q}(S_{t}, A_{t}, w_{t-1})$, used to train the neural network model is the 1-step bootstrapped reward estimate. \n",
    "\n",
    "Some additional details of the algorithm can be learned by reading the code comments. \n",
    "\n",
    "Execute this code for just 10 episodes and examine the results. This will take some time. "
   ]
  },
  {
   "cell_type": "code",
   "execution_count": 5,
   "metadata": {},
   "outputs": [],
   "source": [
    "def copy_model(online_model, target_model):\n",
    "  target_model.set_weights(online_model.get_weights())  "
   ]
  },
  {
   "cell_type": "code",
   "execution_count": 6,
   "metadata": {},
   "outputs": [
    {
     "name": "stdout",
     "output_type": "stream",
     "text": [
      "[[1. 1.]\n",
      " [0. 0.]\n",
      " [0. 0.]\n",
      " [0. 0.]]\n",
      "\n",
      "[[1. 1.]\n",
      " [1. 1.]\n",
      " [0. 0.]\n",
      " [0. 0.]\n",
      " [0. 0.]]\n",
      "\n",
      "[[1. 1.]\n",
      " [1. 1.]\n",
      " [1. 1.]\n",
      " [0. 0.]\n",
      " [0. 0.]]\n",
      "\n",
      "[[1. 1.]\n",
      " [1. 1.]\n",
      " [1. 1.]\n",
      " [1. 1.]\n",
      " [0. 0.]]\n",
      "\n",
      "[[1. 1.]\n",
      " [1. 1.]\n",
      " [1. 1.]\n",
      " [1. 1.]\n",
      " [1. 1.]]\n",
      "\n",
      "[[1. 1.]\n",
      " [1. 1.]\n",
      " [1. 1.]\n",
      " [1. 1.]\n",
      " [1. 1.]]\n",
      "\n"
     ]
    }
   ],
   "source": [
    "def replay_buffer(new_cases, buffer, n_cases = 4096):\n",
    "    \"\"\"Function manages replay buffer as a numpy array with\n",
    "    maximum size of n_cases. Newest data is retained once\n",
    "    more than n_cases available\"\"\"\n",
    "    if(buffer.shape[0] <= n_cases): \n",
    "        ## still growing buffer so append old cases to new\n",
    "        out = np.append(new_cases, buffer, axis = 0)\n",
    "    else: ## Delete some rows and add the new at the top\n",
    "        ## Create a mask for the rows we wish to keep or delete\n",
    "        del_rows = n_cases - new_cases.shape[0] + 1\n",
    "        mask = np.ones(buffer.shape[0], dtype=bool) \n",
    "        mask[del_rows:] = False\n",
    "        ## Append old cases to new \n",
    "        out = np.append(new_cases, buffer[mask,:], axis = 0)\n",
    "    return(out)\n",
    "\n",
    "b = np.zeros((3,2))\n",
    "add = np.ones((1,2))\n",
    "for _ in range(6):\n",
    "    b = replay_buffer(add, b, 4)\n",
    "    print(b)\n",
    "    print('')\n",
    "    "
   ]
  },
  {
   "cell_type": "code",
   "execution_count": 7,
   "metadata": {
    "scrolled": false
   },
   "outputs": [
    {
     "data": {
      "text/plain": [
       "(array([[ 4.88450263e-01,  5.81648470e-02,  2.59867936e-01,\n",
       "          1.00295385e+02],\n",
       "        [ 4.28582405e-01,  5.98678585e-02,  1.89213246e-01,\n",
       "         -7.66118857e-01],\n",
       "        [ 3.66579977e-01,  6.20024282e-02,  1.35291532e-01,\n",
       "         -8.29708079e-01],\n",
       "        [ 3.03041456e-01,  6.35385203e-02,  1.05097800e-01,\n",
       "         -8.78237621e-01],\n",
       "        [ 2.37611659e-01,  6.54297975e-02,  7.38828778e-02,\n",
       "         -9.05411980e-01],\n",
       "        [ 1.70000000e-01,  6.76116588e-02,  3.98030505e-02,\n",
       "         -9.33505410e-01],\n",
       "        [ 1.00000000e-01,  7.00000000e-02,  8.88760551e-04,\n",
       "         -9.64177255e-01],\n",
       "        [ 0.00000000e+00,  1.00000000e-01,  0.00000000e+00,\n",
       "         -9.99200116e-01],\n",
       "        [ 0.00000000e+00,  0.00000000e+00,  0.00000000e+00,\n",
       "          0.00000000e+00]]),\n",
       " 0.4884502632295354,\n",
       " 0.05816484703078046,\n",
       " 0.5,\n",
       " 0.056901721426404026,\n",
       " -1.0)"
      ]
     },
     "execution_count": 7,
     "metadata": {},
     "output_type": "execute_result"
    }
   ],
   "source": [
    "def sample_time_steps(x, x_dot, x_prime, x_dot_prime, action, online_model, target_model, replayBuffer, gamma, epsilon, actions, n_samples = 128):\n",
    "    '''Function to sample an number of episode using the online model.\n",
    "    The samples are placed in the replay buffer'''  \n",
    "#    for _ in range(n_episodes):\n",
    "    done = False\n",
    "    i = 0\n",
    "    ## Compute the required number of samples or quite when terminal\n",
    "    while((i < n_samples) and (not done)):\n",
    "        ## Compute the values for the time step\n",
    "        x, x_dot, x_prime, x_dot_prime, action, done, Q_target, Q_online = compute_Q_values(x,x_dot,x_prime,x_dot_prime,action,actions,gamma,epsilon,online_model,target_model) \n",
    "        ## Add new values to the replay buffer\n",
    "        newCase = np.array([x,x_dot,Q_online,Q_target]).reshape((1,4))\n",
    "        replayBuffer = replay_buffer(newCase, replayBuffer)\n",
    "        ## Increment the count of samples\n",
    "        i += 1\n",
    "    return replayBuffer, x, x_dot, x_prime, x_dot_prime, action\n",
    "\n",
    "## Very simple purely operational test case for function\n",
    "## first initialize a numpy buffer array with\n",
    "## elements, x, x_dot, Q_online, Q_target  \n",
    "x_knot = 0.0\n",
    "x_dot_knot = 0.0\n",
    "test_buffer = np.array([x_knot,x_dot_knot,0.0,0.0]).reshape((1,4))\n",
    "actions = [-1.0,0.0,1.0]  \n",
    "sample_time_steps(x_knot, x_dot_knot, 0.0, 0.1, 1.0, function_approx, function_approx, test_buffer, 0.9, 0.05, actions, n_samples = 16)"
   ]
  },
  {
   "cell_type": "code",
   "execution_count": 8,
   "metadata": {
    "scrolled": false
   },
   "outputs": [
    {
     "name": "stdout",
     "output_type": "stream",
     "text": [
      "Epoch 1/1\n",
      "129/129 [==============================] - 0s 2ms/step - loss: 1.0906 - mean_absolute_error: 0.9874\n",
      "Epoch 1/1\n",
      "257/257 [==============================] - 0s 46us/step - loss: 1.0120 - mean_absolute_error: 0.9501\n",
      "Epoch 1/1\n",
      "355/355 [==============================] - 0s 39us/step - loss: 29.3247 - mean_absolute_error: 1.1742\n",
      "Epoch 1/1\n",
      "356/356 [==============================] - 0s 48us/step - loss: 56.9506 - mean_absolute_error: 1.4069\n",
      "Epoch 1/1\n",
      "357/357 [==============================] - 0s 53us/step - loss: 85.5656 - mean_absolute_error: 1.6594\n",
      "Epoch 1/1\n",
      "358/358 [==============================] - 0s 100us/step - loss: 112.5817 - mean_absolute_error: 1.8924\n",
      "Epoch 1/1\n",
      "359/359 [==============================] - 0s 47us/step - loss: 140.4132 - mean_absolute_error: 2.1533\n",
      "Epoch 1/1\n",
      "360/360 [==============================] - 0s 80us/step - loss: 167.4561 - mean_absolute_error: 2.3954\n",
      "Epoch 1/1\n",
      "361/361 [==============================] - 0s 102us/step - loss: 195.3974 - mean_absolute_error: 2.6578\n",
      "Epoch 1/1\n",
      "362/362 [==============================] - 0s 85us/step - loss: 222.6587 - mean_absolute_error: 2.9399\n",
      "Epoch 1/1\n",
      "363/363 [==============================] - 0s 87us/step - loss: 248.8677 - mean_absolute_error: 3.1997\n",
      "Epoch 1/1\n",
      "364/364 [==============================] - 0s 74us/step - loss: 277.0038 - mean_absolute_error: 3.4823\n",
      "Epoch 1/1\n",
      "365/365 [==============================] - 0s 73us/step - loss: 302.9339 - mean_absolute_error: 3.7155\n",
      "Epoch 1/1\n",
      "366/366 [==============================] - 0s 81us/step - loss: 329.1978 - mean_absolute_error: 4.0002\n",
      "Epoch 1/1\n",
      "367/367 [==============================] - 0s 62us/step - loss: 355.5482 - mean_absolute_error: 4.2817\n",
      "Epoch 1/1\n",
      "368/368 [==============================] - 0s 79us/step - loss: 381.6730 - mean_absolute_error: 4.5307\n",
      "Epoch 1/1\n",
      "496/496 [==============================] - 0s 38us/step - loss: 282.8977 - mean_absolute_error: 3.6016\n",
      "Epoch 1/1\n",
      "624/624 [==============================] - 0s 38us/step - loss: 225.0497 - mean_absolute_error: 3.0877\n",
      "Epoch 1/1\n",
      "752/752 [==============================] - 0s 78us/step - loss: 186.8881 - mean_absolute_error: 2.7115\n",
      "Epoch 1/1\n",
      "880/880 [==============================] - 0s 35us/step - loss: 159.7245 - mean_absolute_error: 2.4525\n",
      "Epoch 1/1\n",
      "1008/1008 [==============================] - 0s 36us/step - loss: 139.0189 - mean_absolute_error: 2.2107\n",
      "Epoch 1/1\n",
      "1136/1136 [==============================] - 0s 34us/step - loss: 123.7687 - mean_absolute_error: 2.0762\n",
      "Epoch 1/1\n",
      "1264/1264 [==============================] - 0s 40us/step - loss: 111.4860 - mean_absolute_error: 1.9228\n",
      "Epoch 1/1\n",
      "1392/1392 [==============================] - 0s 37us/step - loss: 101.1641 - mean_absolute_error: 1.8047\n",
      "Epoch 1/1\n",
      "1520/1520 [==============================] - 0s 39us/step - loss: 92.6295 - mean_absolute_error: 1.7164\n",
      "Epoch 1/1\n",
      "1648/1648 [==============================] - 0s 57us/step - loss: 85.5545 - mean_absolute_error: 1.6426\n",
      "Epoch 1/1\n",
      "1776/1776 [==============================] - 0s 40us/step - loss: 79.2155 - mean_absolute_error: 1.5634\n",
      "Epoch 1/1\n",
      "1904/1904 [==============================] - 0s 38us/step - loss: 74.0201 - mean_absolute_error: 1.4935\n",
      "Epoch 1/1\n",
      "2032/2032 [==============================] - 0s 46us/step - loss: 69.4875 - mean_absolute_error: 1.4229\n",
      "Epoch 1/1\n",
      "2160/2160 [==============================] - 0s 39us/step - loss: 65.3880 - mean_absolute_error: 1.3799\n",
      "Epoch 1/1\n",
      "2288/2288 [==============================] - 0s 37us/step - loss: 61.8657 - mean_absolute_error: 1.3095\n",
      "Epoch 1/1\n",
      "2416/2416 [==============================] - 0s 45us/step - loss: 58.1545 - mean_absolute_error: 1.2484\n",
      "Epoch 1/1\n",
      "2544/2544 [==============================] - 0s 39us/step - loss: 55.5461 - mean_absolute_error: 1.1864\n",
      "Epoch 1/1\n",
      "2672/2672 [==============================] - 0s 42us/step - loss: 52.7251 - mean_absolute_error: 1.1369\n",
      "Epoch 1/1\n",
      "2776/2776 [==============================] - 0s 55us/step - loss: 54.4668 - mean_absolute_error: 1.1222\n",
      "Epoch 1/1\n",
      "2777/2777 [==============================] - 0s 58us/step - loss: 57.6437 - mean_absolute_error: 1.1397\n",
      "Epoch 1/1\n",
      "2778/2778 [==============================] - 0s 52us/step - loss: 61.3084 - mean_absolute_error: 1.1429\n",
      "Epoch 1/1\n",
      "2779/2779 [==============================] - 0s 47us/step - loss: 65.1723 - mean_absolute_error: 1.1748\n",
      "Epoch 1/1\n",
      "2780/2780 [==============================] - 0s 52us/step - loss: 68.3680 - mean_absolute_error: 1.2204\n",
      "Epoch 1/1\n",
      "2781/2781 [==============================] - 0s 49us/step - loss: 72.9414 - mean_absolute_error: 1.2650\n",
      "Epoch 1/1\n",
      "2782/2782 [==============================] - 0s 48us/step - loss: 75.0514 - mean_absolute_error: 1.3008\n",
      "Epoch 1/1\n",
      "2783/2783 [==============================] - 0s 47us/step - loss: 79.0127 - mean_absolute_error: 1.3378\n",
      "Epoch 1/1\n",
      "2784/2784 [==============================] - 0s 52us/step - loss: 81.7030 - mean_absolute_error: 1.4035\n",
      "Epoch 1/1\n",
      "2785/2785 [==============================] - 0s 54us/step - loss: 85.1891 - mean_absolute_error: 1.4827\n",
      "Epoch 1/1\n",
      "2786/2786 [==============================] - 0s 61us/step - loss: 89.5074 - mean_absolute_error: 1.5276\n",
      "Epoch 1/1\n",
      "2787/2787 [==============================] - 0s 56us/step - loss: 92.7199 - mean_absolute_error: 1.5869\n",
      "Epoch 1/1\n",
      "2788/2788 [==============================] - 0s 51us/step - loss: 94.5537 - mean_absolute_error: 1.6294\n",
      "Epoch 1/1\n",
      "2789/2789 [==============================] - 0s 50us/step - loss: 99.2100 - mean_absolute_error: 1.6794\n"
     ]
    }
   ],
   "source": [
    "def DQN(n_cycles = 48, samples_step = 128, gamma = 0.99, epsilon = 0.05, alpha = 0.01, \n",
    "               target_update_cycles = 8, batch_size = 32, x_knot = 0.0, x_dot_knot = 0.0,\n",
    "               a_knot_prime = 0.0, x_dot_knot_prime = 0.0, action_knot = 0.0,\n",
    "               train_epochs = 1):\n",
    "    ## Possible actions\n",
    "    actions = [-1.0,0.0,1.0]\n",
    "    \n",
    "    ## Initialize state\n",
    "    x = x_knot\n",
    "    x_dot = x_dot_knot\n",
    "    x_prime = a_knot_prime\n",
    "    x_dot_prime = x_dot_knot_prime\n",
    "    action = action_knot\n",
    "    \n",
    "    ## Define the Keras model\n",
    "    target_model = DL_model()\n",
    "    online_model = DL_model()\n",
    "    \n",
    "    ## Initialize replay buffer\n",
    "    replayBuffer = np.array([x_knot,x_dot_knot,0.0,0.0]).reshape((1,4))\n",
    "\n",
    "    ## Loop over the training cycles\n",
    "    T = 0  # Cycle counter\n",
    "    for _ in range(n_cycles):\n",
    "        \n",
    "        ## Sample  \n",
    "        replayBuffer, x, x_dot, x_prime, x_dot_prime, action = sample_time_steps(x, x_dot, x_prime, x_dot_prime, action, online_model, target_model, replayBuffer, gamma, epsilon, actions, n_samples = samples_step)\n",
    "        \n",
    "        ## Train the online model using the samples\n",
    "        online_model.fit(replayBuffer[:,:3], replayBuffer[:,3], epochs = train_epochs, batch_size = batch_size)\n",
    "    \n",
    "        ## Update target model if enough cycles\n",
    "        if((T % target_update_cycles) == 0): target_model.set_weights(online_model.get_weights())  \n",
    "        \n",
    "        ## print some progress and update counter\n",
    "#        print('Cycles = ' + str(T))\n",
    "        T += 1\n",
    "    \n",
    "    return(function_approx)  \n",
    "\n",
    "DQNModel = DQN()  "
   ]
  },
  {
   "cell_type": "markdown",
   "metadata": {},
   "source": [
    "The number of time steps required to reach the goal for each episode seems reasonable. However, as you have, no doubt noticed, this time required for even these 10 episodes is rather lengthy. In reality, thousands or tens of thousands of episodes are likely required to find a good approximation for the action values. This approximation would then be used to find a greedy policy given state. "
   ]
  },
  {
   "cell_type": "code",
   "execution_count": 9,
   "metadata": {},
   "outputs": [
    {
     "name": "stdout",
     "output_type": "stream",
     "text": [
      "0.5 0.07 -1.0 True\n",
      "0.5 0.06882315699583075 -1.0 True\n",
      "0.5 0.06764631399166149 -1.0 True\n",
      "0.5 0.06646947098749223 -1.0 True\n",
      "0.5 0.06529262798332297 -1.0 True\n",
      "0.5 0.06411578497915371 -1.0 True\n",
      "0.5 0.06293894197498445 -1.0 True\n",
      "0.5 0.061762098970815194 -1.0 True\n",
      "0.5 0.060585255966645934 -1.0 True\n",
      "0.5 0.059408412962476675 -1.0 True\n"
     ]
    }
   ],
   "source": [
    "def policy_time_step(x, x_dot, target_model, actions):\n",
    "    '''Function uses a greedy policy to take a time step with the greatest action value\n",
    "    as predicted by the target model. The function also returns if the episode is done''' \n",
    "    ## Find the action with the largest prediced value for the positon and velocity\n",
    "    Q_target = []\n",
    "    ## Iterate over all actions to find Q values\n",
    "    for a in actions:\n",
    "        Q_target.append(target_model.predict(np.array([[x,x_dot,a]]))[0][0])\n",
    "    ## Find the action with max Q\n",
    "    max_index = np.argmax(Q_target)\n",
    "    ## Finally compute the state following the action with the highest value\n",
    "    x, x_dot, done, reward = sim_car(x, x_dot, actions[max_index])\n",
    "    return x, x_dot, actions[max_index], done\n",
    "\n",
    "\n",
    "## Simple test case for the function\n",
    "x = 0.0\n",
    "x_dot = 1.0\n",
    "for _ in (range(10)):\n",
    "    x, x_dot, action, done = policy_time_step(x,x_dot,DQNModel,actions)\n",
    "    print(x, x_dot, action, done)"
   ]
  },
  {
   "cell_type": "code",
   "execution_count": 13,
   "metadata": {
    "scrolled": false
   },
   "outputs": [
    {
     "name": "stdout",
     "output_type": "stream",
     "text": [
      "Starting positon = -0.0\n"
     ]
    },
    {
     "data": {
      "image/png": "[encoded data removed]",
      "text/plain": [
       "<Figure size 432x432 with 3 Axes>"
      ]
     },
     "metadata": {},
     "output_type": "display_data"
    }
   ],
   "source": [
    "def plot_car_a(x, x_dot, a):    \n",
    "    ## Plot car position\n",
    "    fig = plt.figure(figsize = (6,6))\n",
    "    ax1 = fig.add_subplot(311)    \n",
    "    ax1.plot(x)\n",
    "    ax1.set_ylabel('Positon of car')\n",
    "    \n",
    "    ## PLot car velocity\n",
    "    ax2 = fig.add_subplot(312)  \n",
    "    ax2.plot(x_dot)\n",
    "    ax2.set_ylabel('Velocity of car')\n",
    "    \n",
    "    ## PLot acceleration\n",
    "    ax2 = fig.add_subplot(313)  \n",
    "    ax2.plot(a)\n",
    "    ax2.set_ylabel('Acceleration of car')\n",
    "    ax2.set_xlabel('Time')\n",
    "    \n",
    "## Initialize the car state\n",
    "a = [0.0]\n",
    "x_dot = [-0.0]\n",
    "x = [-0.0]\n",
    "print('Starting positon = ' + str(x[0]))\n",
    "\n",
    "## Iterate until termination\n",
    "i = 0    \n",
    "done = False\n",
    "#while not done:\n",
    "for i in range(400):    \n",
    "    ## Update the position and velocity    \n",
    "    x_temp, x_dot_temp, action, done = policy_time_step(x[i],x_dot[i],DQNModel,actions)\n",
    "    x.append(x_temp)\n",
    "    x_dot.append(x_dot_temp)\n",
    "    a.append(action)\n",
    "    \n",
    "        \n",
    "plot_car_a(x,x_dot,a)         "
   ]
  },
  {
   "cell_type": "markdown",
   "metadata": {},
   "source": [
    "## Better Off-Policy Function Approximation Algorithms\n",
    "\n",
    "In the foregoing example, we have used a rather naive approach to off-policy reinforcement learning with function approximation. Much better algorithms exist, including **eligibility trace** methods and **policy gradient** algorithms. Unfortunately, these algorithms are beyond the scope of this course. Additional information on these algorithms can be found in chapters 12 and 13 of Sutton and Barto, second edition. "
   ]
  },
  {
   "cell_type": "markdown",
   "metadata": {},
   "source": [
    "#### Copyright 2018, 2019, Stephen F. Elston. All rights reserved."
   ]
  },
  {
   "cell_type": "code",
   "execution_count": null,
   "metadata": {},
   "outputs": [],
   "source": []
  }
 ],
 "metadata": {
  "kernelspec": {
   "display_name": "Python 3",
   "language": "python",
   "name": "python3"
  },
  "language_info": {
   "codemirror_mode": {
    "name": "ipython",
    "version": 3
   },
   "file_extension": ".py",
   "mimetype": "text/x-python",
   "name": "python",
   "nbconvert_exporter": "python",
   "pygments_lexer": "ipython3",
   "version": "3.6.4"
  }
 },
 "nbformat": 4,
 "nbformat_minor": 2
}
